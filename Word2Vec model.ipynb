{
 "cells": [
  {
   "cell_type": "code",
   "execution_count": 1,
   "metadata": {},
   "outputs": [],
   "source": [
    "# 9, Jul. 2018\n",
    "# https://github.com/kavgan/data-science-tutorials/blob/master/word2vec/Word2Vec.ipynb\n",
    "# http://kavita-ganesan.com/gensim-word2vec-tutorial-starter-code/#.WxyqeVMvyjh\n",
    "# https://radimrehurek.com/gensim/models/keyedvectors.html\n",
    "# http://kavita-ganesan.com/kavitas-tutorials/#.WxypIlMvyjh\n",
    "\n",
    "import gzip\n",
    "import gensim \n",
    "import logging\n",
    "\n",
    "logging.basicConfig(format='%(asctime)s : %(levelname)s : %(message)s', level=logging.INFO)·"
   ]
  },
  {
   "cell_type": "code",
   "execution_count": 12,
   "metadata": {},
   "outputs": [
    {
     "name": "stdout",
     "output_type": "stream",
     "text": [
      "b\"Oct 12 2009 \\tNice trendy hotel location not too bad.\\tI stayed in this hotel for one night. As this is a fairly new place some of the taxi drivers did not know where it was and/or did not want to drive there. Once I have eventually arrived at the hotel, I was very pleasantly surprised with the decor of the lobby/ground floor area. It was very stylish and modern. I found the reception's staff geeting me with 'Aloha' a bit out of place, but I guess they are briefed to say that to keep up the coroporate image.As I have a Starwood Preferred Guest member, I was given a small gift upon-check in. It was only a couple of fridge magnets in a gift box, but nevertheless a nice gesture.My room was nice and roomy, there are tea and coffee facilities in each room and you get two complimentary bottles of water plus some toiletries by 'bliss'.The location is not great. It is at the last metro stop and you then need to take a taxi, but if you are not planning on going to see the historic sites in Beijing, then you will be ok.I chose to have some breakfast in the hotel, which was really tasty and there was a good selection of dishes. There are a couple of computers to use in the communal area, as well as a pool table. There is also a small swimming pool and a gym area.I would definitely stay in this hotel again, but only if I did not plan to travel to central Beijing, as it can take a long time. The location is ok if you plan to do a lot of shopping, as there is a big shopping centre just few minutes away from the hotel and there are plenty of eating options around, including restaurants that serve a dog meat!\\t\\r\\n\"\n"
     ]
    }
   ],
   "source": [
    "# https://github.com/kavgan/OpinRank/raw/master/OpinRankDatasetWithJudgments.zip\n",
    "# wget https://github.com/kavgan/data-science-tutorials/raw/master/word2vec/reviews_data.txt.gz\n",
    "data_file=\"reviews_data.txt.gz\"\n",
    "with gzip.open (data_file, 'rb') as f:\n",
    "        for i,line in enumerate (f):\n",
    "            print(line)\n",
    "            break"
   ]
  },
  {
   "cell_type": "code",
   "execution_count": 13,
   "metadata": {},
   "outputs": [
    {
     "name": "stderr",
     "output_type": "stream",
     "text": [
      "2018-06-09 23:38:48,239 : INFO : reading file reviews_data.txt.gz...this may take a while\n",
      "2018-06-09 23:38:48,240 : INFO : read 0 reviews\n",
      "2018-06-09 23:38:50,199 : INFO : read 10000 reviews\n",
      "2018-06-09 23:38:52,235 : INFO : read 20000 reviews\n",
      "2018-06-09 23:38:54,564 : INFO : read 30000 reviews\n",
      "2018-06-09 23:38:56,665 : INFO : read 40000 reviews\n",
      "2018-06-09 23:38:58,988 : INFO : read 50000 reviews\n",
      "2018-06-09 23:39:01,314 : INFO : read 60000 reviews\n",
      "2018-06-09 23:39:03,265 : INFO : read 70000 reviews\n",
      "2018-06-09 23:39:05,103 : INFO : read 80000 reviews\n",
      "2018-06-09 23:39:06,949 : INFO : read 90000 reviews\n",
      "2018-06-09 23:39:08,688 : INFO : read 100000 reviews\n",
      "2018-06-09 23:39:10,424 : INFO : read 110000 reviews\n",
      "2018-06-09 23:39:12,432 : INFO : read 120000 reviews\n",
      "2018-06-09 23:39:14,210 : INFO : read 130000 reviews\n",
      "2018-06-09 23:39:16,130 : INFO : read 140000 reviews\n",
      "2018-06-09 23:39:17,907 : INFO : read 150000 reviews\n",
      "2018-06-09 23:39:19,720 : INFO : read 160000 reviews\n",
      "2018-06-09 23:39:21,490 : INFO : read 170000 reviews\n",
      "2018-06-09 23:39:23,373 : INFO : read 180000 reviews\n",
      "2018-06-09 23:39:25,300 : INFO : read 190000 reviews\n",
      "2018-06-09 23:39:27,378 : INFO : read 200000 reviews\n",
      "2018-06-09 23:39:29,809 : INFO : read 210000 reviews\n",
      "2018-06-09 23:39:31,806 : INFO : read 220000 reviews\n",
      "2018-06-09 23:39:33,611 : INFO : read 230000 reviews\n",
      "2018-06-09 23:39:35,550 : INFO : read 240000 reviews\n",
      "2018-06-09 23:39:37,504 : INFO : read 250000 reviews\n",
      "2018-06-09 23:39:38,500 : INFO : Done reading data file\n"
     ]
    }
   ],
   "source": [
    "def read_input(input_file):\n",
    "    \"\"\"This method reads the input file which is in gzip format\"\"\"\n",
    "    logging.info(\"reading file {0}...this may take a while\".format(input_file))\n",
    "    with gzip.open (input_file, 'rb') as f:\n",
    "        for i, line in enumerate (f): \n",
    "\n",
    "            if (i%10000==0):\n",
    "                logging.info (\"read {0} reviews\".format (i))\n",
    "            # do some pre-processing and return a list of words for each review text\n",
    "            yield gensim.utils.simple_preprocess (line)\n",
    "\n",
    "# read the tokenized reviews into a list\n",
    "# each review item becomes a serries of words\n",
    "# so this becomes a list of lists\n",
    "documents = list (read_input (data_file))\n",
    "logging.info (\"Done reading data file\")"
   ]
  },
  {
   "cell_type": "code",
   "execution_count": 14,
   "metadata": {},
   "outputs": [
    {
     "name": "stderr",
     "output_type": "stream",
     "text": [
      "2018-06-09 23:40:25,727 : WARNING : consider setting layer size to a multiple of 4 for greater performance\n",
      "2018-06-09 23:40:25,728 : INFO : collecting all words and their counts\n",
      "2018-06-09 23:40:25,728 : INFO : PROGRESS: at sentence #0, processed 0 words, keeping 0 word types\n",
      "2018-06-09 23:40:25,954 : INFO : PROGRESS: at sentence #10000, processed 1655714 words, keeping 25777 word types\n",
      "2018-06-09 23:40:26,173 : INFO : PROGRESS: at sentence #20000, processed 3317863 words, keeping 35016 word types\n",
      "2018-06-09 23:40:26,429 : INFO : PROGRESS: at sentence #30000, processed 5264072 words, keeping 47518 word types\n",
      "2018-06-09 23:40:26,676 : INFO : PROGRESS: at sentence #40000, processed 7081746 words, keeping 56675 word types\n",
      "2018-06-09 23:40:26,940 : INFO : PROGRESS: at sentence #50000, processed 9089491 words, keeping 63744 word types\n",
      "2018-06-09 23:40:27,196 : INFO : PROGRESS: at sentence #60000, processed 11013723 words, keeping 76781 word types\n",
      "2018-06-09 23:40:27,437 : INFO : PROGRESS: at sentence #70000, processed 12637525 words, keeping 83194 word types\n",
      "2018-06-09 23:40:27,669 : INFO : PROGRESS: at sentence #80000, processed 14099751 words, keeping 88454 word types\n",
      "2018-06-09 23:40:27,907 : INFO : PROGRESS: at sentence #90000, processed 15662149 words, keeping 93352 word types\n",
      "2018-06-09 23:40:28,121 : INFO : PROGRESS: at sentence #100000, processed 17164487 words, keeping 97881 word types\n",
      "2018-06-09 23:40:28,336 : INFO : PROGRESS: at sentence #110000, processed 18652292 words, keeping 102127 word types\n",
      "2018-06-09 23:40:28,554 : INFO : PROGRESS: at sentence #120000, processed 20152529 words, keeping 105918 word types\n",
      "2018-06-09 23:40:28,777 : INFO : PROGRESS: at sentence #130000, processed 21684330 words, keeping 110099 word types\n",
      "2018-06-09 23:40:29,016 : INFO : PROGRESS: at sentence #140000, processed 23330206 words, keeping 114103 word types\n",
      "2018-06-09 23:40:29,236 : INFO : PROGRESS: at sentence #150000, processed 24838754 words, keeping 118169 word types\n",
      "2018-06-09 23:40:29,449 : INFO : PROGRESS: at sentence #160000, processed 26390910 words, keeping 118665 word types\n",
      "2018-06-09 23:40:29,665 : INFO : PROGRESS: at sentence #170000, processed 27913916 words, keeping 123350 word types\n",
      "2018-06-09 23:40:29,881 : INFO : PROGRESS: at sentence #180000, processed 29535612 words, keeping 126742 word types\n",
      "2018-06-09 23:40:30,096 : INFO : PROGRESS: at sentence #190000, processed 31096459 words, keeping 129841 word types\n",
      "2018-06-09 23:40:30,333 : INFO : PROGRESS: at sentence #200000, processed 32805271 words, keeping 133249 word types\n",
      "2018-06-09 23:40:30,562 : INFO : PROGRESS: at sentence #210000, processed 34434198 words, keeping 136358 word types\n",
      "2018-06-09 23:40:30,784 : INFO : PROGRESS: at sentence #220000, processed 36083482 words, keeping 139412 word types\n",
      "2018-06-09 23:40:30,989 : INFO : PROGRESS: at sentence #230000, processed 37571762 words, keeping 142393 word types\n",
      "2018-06-09 23:40:31,200 : INFO : PROGRESS: at sentence #240000, processed 39138190 words, keeping 145226 word types\n",
      "2018-06-09 23:40:31,407 : INFO : PROGRESS: at sentence #250000, processed 40695049 words, keeping 147960 word types\n",
      "2018-06-09 23:40:31,526 : INFO : collected 150053 word types from a corpus of 41519355 raw words and 255404 sentences\n",
      "2018-06-09 23:40:31,527 : INFO : Loading a fresh vocabulary\n",
      "2018-06-09 23:40:32,239 : INFO : min_count=2 retains 70538 unique words (47% of original 150053, drops 79515)\n",
      "2018-06-09 23:40:32,239 : INFO : min_count=2 leaves 41439840 word corpus (99% of original 41519355, drops 79515)\n",
      "2018-06-09 23:40:32,388 : INFO : deleting the raw counts dictionary of 150053 items\n",
      "2018-06-09 23:40:32,392 : INFO : sample=0.001 downsamples 55 most-common words\n",
      "2018-06-09 23:40:32,392 : INFO : downsampling leaves estimated 30349255 word corpus (73.2% of prior 41439840)\n",
      "2018-06-09 23:40:32,569 : INFO : estimated required memory for 70538 words and 150 dimensions: 119914600 bytes\n",
      "2018-06-09 23:40:32,570 : INFO : resetting layer weights\n",
      "2018-06-09 23:40:33,271 : INFO : training model with 10 workers on 70538 vocabulary and 150 features, using sg=0 hs=0 sample=0.001 negative=5 window=10\n",
      "2018-06-09 23:40:34,277 : INFO : EPOCH 1 - PROGRESS: at 5.05% examples, 1556898 words/s, in_qsize 19, out_qsize 0\n",
      "2018-06-09 23:40:35,277 : INFO : EPOCH 1 - PROGRESS: at 10.09% examples, 1604270 words/s, in_qsize 19, out_qsize 0\n",
      "2018-06-09 23:40:36,279 : INFO : EPOCH 1 - PROGRESS: at 14.25% examples, 1567686 words/s, in_qsize 19, out_qsize 0\n",
      "2018-06-09 23:40:37,284 : INFO : EPOCH 1 - PROGRESS: at 18.57% examples, 1559511 words/s, in_qsize 19, out_qsize 0\n",
      "2018-06-09 23:40:38,288 : INFO : EPOCH 1 - PROGRESS: at 22.87% examples, 1555784 words/s, in_qsize 18, out_qsize 1\n",
      "2018-06-09 23:40:39,289 : INFO : EPOCH 1 - PROGRESS: at 28.25% examples, 1572401 words/s, in_qsize 19, out_qsize 0\n",
      "2018-06-09 23:40:40,293 : INFO : EPOCH 1 - PROGRESS: at 34.01% examples, 1581567 words/s, in_qsize 19, out_qsize 0\n",
      "2018-06-09 23:40:41,302 : INFO : EPOCH 1 - PROGRESS: at 39.87% examples, 1589347 words/s, in_qsize 19, out_qsize 0\n",
      "2018-06-09 23:40:42,305 : INFO : EPOCH 1 - PROGRESS: at 45.67% examples, 1587724 words/s, in_qsize 19, out_qsize 0\n",
      "2018-06-09 23:40:43,317 : INFO : EPOCH 1 - PROGRESS: at 51.34% examples, 1591980 words/s, in_qsize 19, out_qsize 0\n",
      "2018-06-09 23:40:44,324 : INFO : EPOCH 1 - PROGRESS: at 56.94% examples, 1595667 words/s, in_qsize 19, out_qsize 0\n",
      "2018-06-09 23:40:45,326 : INFO : EPOCH 1 - PROGRESS: at 62.62% examples, 1600508 words/s, in_qsize 19, out_qsize 0\n",
      "2018-06-09 23:40:46,332 : INFO : EPOCH 1 - PROGRESS: at 68.41% examples, 1604454 words/s, in_qsize 19, out_qsize 0\n",
      "2018-06-09 23:40:47,346 : INFO : EPOCH 1 - PROGRESS: at 74.04% examples, 1607632 words/s, in_qsize 19, out_qsize 0\n",
      "2018-06-09 23:40:48,357 : INFO : EPOCH 1 - PROGRESS: at 79.09% examples, 1606188 words/s, in_qsize 15, out_qsize 4\n",
      "2018-06-09 23:40:49,368 : INFO : EPOCH 1 - PROGRESS: at 84.10% examples, 1599737 words/s, in_qsize 19, out_qsize 0\n",
      "2018-06-09 23:40:50,370 : INFO : EPOCH 1 - PROGRESS: at 89.63% examples, 1599512 words/s, in_qsize 19, out_qsize 0\n",
      "2018-06-09 23:40:51,370 : INFO : EPOCH 1 - PROGRESS: at 95.15% examples, 1599672 words/s, in_qsize 19, out_qsize 2\n",
      "2018-06-09 23:40:52,251 : INFO : worker thread finished; awaiting finish of 9 more threads\n",
      "2018-06-09 23:40:52,269 : INFO : worker thread finished; awaiting finish of 8 more threads\n",
      "2018-06-09 23:40:52,269 : INFO : worker thread finished; awaiting finish of 7 more threads\n",
      "2018-06-09 23:40:52,274 : INFO : worker thread finished; awaiting finish of 6 more threads\n",
      "2018-06-09 23:40:52,283 : INFO : worker thread finished; awaiting finish of 5 more threads\n",
      "2018-06-09 23:40:52,284 : INFO : worker thread finished; awaiting finish of 4 more threads\n",
      "2018-06-09 23:40:52,292 : INFO : worker thread finished; awaiting finish of 3 more threads\n",
      "2018-06-09 23:40:52,295 : INFO : worker thread finished; awaiting finish of 2 more threads\n",
      "2018-06-09 23:40:52,299 : INFO : worker thread finished; awaiting finish of 1 more threads\n",
      "2018-06-09 23:40:52,303 : INFO : worker thread finished; awaiting finish of 0 more threads\n",
      "2018-06-09 23:40:52,304 : INFO : EPOCH - 1 : training on 41519355 raw words (30348125 effective words) took 19.0s, 1594886 effective words/s\n",
      "2018-06-09 23:40:53,316 : INFO : EPOCH 2 - PROGRESS: at 5.10% examples, 1561256 words/s, in_qsize 19, out_qsize 0\n",
      "2018-06-09 23:40:54,320 : INFO : EPOCH 2 - PROGRESS: at 10.09% examples, 1596125 words/s, in_qsize 19, out_qsize 0\n",
      "2018-06-09 23:40:55,322 : INFO : EPOCH 2 - PROGRESS: at 14.78% examples, 1624253 words/s, in_qsize 19, out_qsize 0\n",
      "2018-06-09 23:40:56,325 : INFO : EPOCH 2 - PROGRESS: at 19.06% examples, 1604150 words/s, in_qsize 19, out_qsize 1\n",
      "2018-06-09 23:40:57,333 : INFO : EPOCH 2 - PROGRESS: at 23.44% examples, 1599128 words/s, in_qsize 19, out_qsize 0\n",
      "2018-06-09 23:40:58,338 : INFO : EPOCH 2 - PROGRESS: at 28.36% examples, 1574433 words/s, in_qsize 19, out_qsize 0\n",
      "2018-06-09 23:40:59,343 : INFO : EPOCH 2 - PROGRESS: at 33.92% examples, 1574940 words/s, in_qsize 18, out_qsize 1\n",
      "2018-06-09 23:41:00,345 : INFO : EPOCH 2 - PROGRESS: at 39.43% examples, 1571495 words/s, in_qsize 19, out_qsize 0\n",
      "2018-06-09 23:41:01,347 : INFO : EPOCH 2 - PROGRESS: at 45.29% examples, 1574237 words/s, in_qsize 19, out_qsize 0\n"
     ]
    },
    {
     "name": "stderr",
     "output_type": "stream",
     "text": [
      "2018-06-09 23:41:02,352 : INFO : EPOCH 2 - PROGRESS: at 50.86% examples, 1576662 words/s, in_qsize 19, out_qsize 0\n",
      "2018-06-09 23:41:03,358 : INFO : EPOCH 2 - PROGRESS: at 56.31% examples, 1579303 words/s, in_qsize 19, out_qsize 0\n",
      "2018-06-09 23:41:04,358 : INFO : EPOCH 2 - PROGRESS: at 61.93% examples, 1584577 words/s, in_qsize 20, out_qsize 0\n",
      "2018-06-09 23:41:05,361 : INFO : EPOCH 2 - PROGRESS: at 67.66% examples, 1587813 words/s, in_qsize 19, out_qsize 0\n",
      "2018-06-09 23:41:06,362 : INFO : EPOCH 2 - PROGRESS: at 73.42% examples, 1597327 words/s, in_qsize 19, out_qsize 0\n",
      "2018-06-09 23:41:07,372 : INFO : EPOCH 2 - PROGRESS: at 78.69% examples, 1599569 words/s, in_qsize 19, out_qsize 0\n",
      "2018-06-09 23:41:08,376 : INFO : EPOCH 2 - PROGRESS: at 84.27% examples, 1605364 words/s, in_qsize 19, out_qsize 0\n",
      "2018-06-09 23:41:09,381 : INFO : EPOCH 2 - PROGRESS: at 90.03% examples, 1608412 words/s, in_qsize 19, out_qsize 0\n",
      "2018-06-09 23:41:10,388 : INFO : EPOCH 2 - PROGRESS: at 95.82% examples, 1611854 words/s, in_qsize 17, out_qsize 2\n",
      "2018-06-09 23:41:11,111 : INFO : worker thread finished; awaiting finish of 9 more threads\n",
      "2018-06-09 23:41:11,113 : INFO : worker thread finished; awaiting finish of 8 more threads\n",
      "2018-06-09 23:41:11,114 : INFO : worker thread finished; awaiting finish of 7 more threads\n",
      "2018-06-09 23:41:11,117 : INFO : worker thread finished; awaiting finish of 6 more threads\n",
      "2018-06-09 23:41:11,125 : INFO : worker thread finished; awaiting finish of 5 more threads\n",
      "2018-06-09 23:41:11,125 : INFO : worker thread finished; awaiting finish of 4 more threads\n",
      "2018-06-09 23:41:11,128 : INFO : worker thread finished; awaiting finish of 3 more threads\n",
      "2018-06-09 23:41:11,131 : INFO : worker thread finished; awaiting finish of 2 more threads\n",
      "2018-06-09 23:41:11,132 : INFO : worker thread finished; awaiting finish of 1 more threads\n",
      "2018-06-09 23:41:11,138 : INFO : worker thread finished; awaiting finish of 0 more threads\n",
      "2018-06-09 23:41:11,139 : INFO : EPOCH - 2 : training on 41519355 raw words (30347821 effective words) took 18.8s, 1611596 effective words/s\n",
      "2018-06-09 23:41:12,150 : INFO : EPOCH 3 - PROGRESS: at 4.97% examples, 1528589 words/s, in_qsize 19, out_qsize 0\n",
      "2018-06-09 23:41:13,155 : INFO : EPOCH 3 - PROGRESS: at 9.53% examples, 1486493 words/s, in_qsize 18, out_qsize 1\n",
      "2018-06-09 23:41:14,165 : INFO : EPOCH 3 - PROGRESS: at 13.76% examples, 1503151 words/s, in_qsize 19, out_qsize 0\n",
      "2018-06-09 23:41:15,166 : INFO : EPOCH 3 - PROGRESS: at 18.24% examples, 1525759 words/s, in_qsize 19, out_qsize 0\n",
      "2018-06-09 23:41:16,166 : INFO : EPOCH 3 - PROGRESS: at 22.41% examples, 1516913 words/s, in_qsize 19, out_qsize 0\n",
      "2018-06-09 23:41:17,170 : INFO : EPOCH 3 - PROGRESS: at 27.27% examples, 1525944 words/s, in_qsize 19, out_qsize 0\n",
      "2018-06-09 23:41:18,170 : INFO : EPOCH 3 - PROGRESS: at 33.04% examples, 1535530 words/s, in_qsize 18, out_qsize 0\n",
      "2018-06-09 23:41:19,173 : INFO : EPOCH 3 - PROGRESS: at 38.54% examples, 1542209 words/s, in_qsize 19, out_qsize 0\n",
      "2018-06-09 23:41:20,178 : INFO : EPOCH 3 - PROGRESS: at 44.49% examples, 1551060 words/s, in_qsize 19, out_qsize 0\n",
      "2018-06-09 23:41:21,181 : INFO : EPOCH 3 - PROGRESS: at 49.66% examples, 1543858 words/s, in_qsize 19, out_qsize 0\n",
      "2018-06-09 23:41:22,187 : INFO : EPOCH 3 - PROGRESS: at 54.80% examples, 1543458 words/s, in_qsize 19, out_qsize 0\n",
      "2018-06-09 23:41:23,190 : INFO : EPOCH 3 - PROGRESS: at 60.51% examples, 1550113 words/s, in_qsize 19, out_qsize 0\n",
      "2018-06-09 23:41:24,206 : INFO : EPOCH 3 - PROGRESS: at 66.20% examples, 1554253 words/s, in_qsize 20, out_qsize 1\n",
      "2018-06-09 23:41:25,212 : INFO : EPOCH 3 - PROGRESS: at 71.63% examples, 1559691 words/s, in_qsize 15, out_qsize 4\n",
      "2018-06-09 23:41:26,213 : INFO : EPOCH 3 - PROGRESS: at 77.03% examples, 1564108 words/s, in_qsize 18, out_qsize 1\n",
      "2018-06-09 23:41:27,220 : INFO : EPOCH 3 - PROGRESS: at 82.36% examples, 1568228 words/s, in_qsize 19, out_qsize 0\n",
      "2018-06-09 23:41:28,231 : INFO : EPOCH 3 - PROGRESS: at 87.78% examples, 1569459 words/s, in_qsize 19, out_qsize 0\n",
      "2018-06-09 23:41:29,246 : INFO : EPOCH 3 - PROGRESS: at 92.87% examples, 1562325 words/s, in_qsize 17, out_qsize 2\n",
      "2018-06-09 23:41:30,247 : INFO : EPOCH 3 - PROGRESS: at 98.02% examples, 1558966 words/s, in_qsize 17, out_qsize 2\n",
      "2018-06-09 23:41:30,596 : INFO : worker thread finished; awaiting finish of 9 more threads\n",
      "2018-06-09 23:41:30,604 : INFO : worker thread finished; awaiting finish of 8 more threads\n",
      "2018-06-09 23:41:30,604 : INFO : worker thread finished; awaiting finish of 7 more threads\n",
      "2018-06-09 23:41:30,607 : INFO : worker thread finished; awaiting finish of 6 more threads\n",
      "2018-06-09 23:41:30,609 : INFO : worker thread finished; awaiting finish of 5 more threads\n",
      "2018-06-09 23:41:30,611 : INFO : worker thread finished; awaiting finish of 4 more threads\n",
      "2018-06-09 23:41:30,619 : INFO : worker thread finished; awaiting finish of 3 more threads\n",
      "2018-06-09 23:41:30,620 : INFO : worker thread finished; awaiting finish of 2 more threads\n",
      "2018-06-09 23:41:30,621 : INFO : worker thread finished; awaiting finish of 1 more threads\n",
      "2018-06-09 23:41:30,629 : INFO : worker thread finished; awaiting finish of 0 more threads\n",
      "2018-06-09 23:41:30,630 : INFO : EPOCH - 3 : training on 41519355 raw words (30348190 effective words) took 19.5s, 1557444 effective words/s\n",
      "2018-06-09 23:41:31,643 : INFO : EPOCH 4 - PROGRESS: at 4.92% examples, 1503586 words/s, in_qsize 19, out_qsize 0\n",
      "2018-06-09 23:41:32,646 : INFO : EPOCH 4 - PROGRESS: at 9.76% examples, 1532551 words/s, in_qsize 18, out_qsize 1\n",
      "2018-06-09 23:41:33,659 : INFO : EPOCH 4 - PROGRESS: at 14.15% examples, 1545280 words/s, in_qsize 19, out_qsize 0\n",
      "2018-06-09 23:41:34,662 : INFO : EPOCH 4 - PROGRESS: at 18.56% examples, 1550708 words/s, in_qsize 19, out_qsize 0\n",
      "2018-06-09 23:41:35,678 : INFO : EPOCH 4 - PROGRESS: at 22.99% examples, 1556462 words/s, in_qsize 20, out_qsize 4\n",
      "2018-06-09 23:41:36,694 : INFO : EPOCH 4 - PROGRESS: at 28.15% examples, 1555857 words/s, in_qsize 19, out_qsize 0\n",
      "2018-06-09 23:41:37,697 : INFO : EPOCH 4 - PROGRESS: at 33.19% examples, 1535094 words/s, in_qsize 19, out_qsize 0\n",
      "2018-06-09 23:41:38,698 : INFO : EPOCH 4 - PROGRESS: at 38.93% examples, 1549437 words/s, in_qsize 19, out_qsize 0\n",
      "2018-06-09 23:41:39,716 : INFO : EPOCH 4 - PROGRESS: at 44.81% examples, 1552764 words/s, in_qsize 19, out_qsize 0\n",
      "2018-06-09 23:41:40,719 : INFO : EPOCH 4 - PROGRESS: at 49.88% examples, 1543325 words/s, in_qsize 19, out_qsize 0\n",
      "2018-06-09 23:41:41,719 : INFO : EPOCH 4 - PROGRESS: at 53.81% examples, 1511099 words/s, in_qsize 19, out_qsize 0\n",
      "2018-06-09 23:41:42,721 : INFO : EPOCH 4 - PROGRESS: at 58.75% examples, 1503055 words/s, in_qsize 19, out_qsize 0\n",
      "2018-06-09 23:41:43,750 : INFO : EPOCH 4 - PROGRESS: at 63.57% examples, 1489505 words/s, in_qsize 17, out_qsize 2\n",
      "2018-06-09 23:41:44,751 : INFO : EPOCH 4 - PROGRESS: at 67.66% examples, 1468725 words/s, in_qsize 19, out_qsize 0\n",
      "2018-06-09 23:41:45,753 : INFO : EPOCH 4 - PROGRESS: at 72.76% examples, 1472990 words/s, in_qsize 19, out_qsize 0\n",
      "2018-06-09 23:41:46,756 : INFO : EPOCH 4 - PROGRESS: at 78.03% examples, 1482606 words/s, in_qsize 19, out_qsize 0\n",
      "2018-06-09 23:41:47,763 : INFO : EPOCH 4 - PROGRESS: at 83.31% examples, 1488374 words/s, in_qsize 19, out_qsize 0\n",
      "2018-06-09 23:41:48,768 : INFO : EPOCH 4 - PROGRESS: at 88.72% examples, 1493638 words/s, in_qsize 19, out_qsize 0\n",
      "2018-06-09 23:41:49,769 : INFO : EPOCH 4 - PROGRESS: at 94.02% examples, 1495853 words/s, in_qsize 19, out_qsize 0\n",
      "2018-06-09 23:41:50,778 : INFO : EPOCH 4 - PROGRESS: at 99.70% examples, 1502561 words/s, in_qsize 12, out_qsize 0\n",
      "2018-06-09 23:41:50,797 : INFO : worker thread finished; awaiting finish of 9 more threads\n",
      "2018-06-09 23:41:50,798 : INFO : worker thread finished; awaiting finish of 8 more threads\n",
      "2018-06-09 23:41:50,800 : INFO : worker thread finished; awaiting finish of 7 more threads\n",
      "2018-06-09 23:41:50,807 : INFO : worker thread finished; awaiting finish of 6 more threads\n",
      "2018-06-09 23:41:50,810 : INFO : worker thread finished; awaiting finish of 5 more threads\n",
      "2018-06-09 23:41:50,821 : INFO : worker thread finished; awaiting finish of 4 more threads\n",
      "2018-06-09 23:41:50,823 : INFO : worker thread finished; awaiting finish of 3 more threads\n"
     ]
    },
    {
     "name": "stderr",
     "output_type": "stream",
     "text": [
      "2018-06-09 23:41:50,830 : INFO : worker thread finished; awaiting finish of 2 more threads\n",
      "2018-06-09 23:41:50,831 : INFO : worker thread finished; awaiting finish of 1 more threads\n",
      "2018-06-09 23:41:50,836 : INFO : worker thread finished; awaiting finish of 0 more threads\n",
      "2018-06-09 23:41:50,837 : INFO : EPOCH - 4 : training on 41519355 raw words (30348696 effective words) took 20.2s, 1502279 effective words/s\n",
      "2018-06-09 23:41:51,842 : INFO : EPOCH 5 - PROGRESS: at 5.14% examples, 1587813 words/s, in_qsize 19, out_qsize 0\n",
      "2018-06-09 23:41:52,842 : INFO : EPOCH 5 - PROGRESS: at 10.08% examples, 1605659 words/s, in_qsize 16, out_qsize 3\n",
      "2018-06-09 23:41:53,855 : INFO : EPOCH 5 - PROGRESS: at 14.79% examples, 1624383 words/s, in_qsize 19, out_qsize 0\n",
      "2018-06-09 23:41:54,872 : INFO : EPOCH 5 - PROGRESS: at 19.26% examples, 1617816 words/s, in_qsize 19, out_qsize 0\n",
      "2018-06-09 23:41:55,880 : INFO : EPOCH 5 - PROGRESS: at 23.78% examples, 1620529 words/s, in_qsize 19, out_qsize 0\n",
      "2018-06-09 23:41:56,880 : INFO : EPOCH 5 - PROGRESS: at 29.50% examples, 1624236 words/s, in_qsize 19, out_qsize 0\n",
      "2018-06-09 23:41:57,887 : INFO : EPOCH 5 - PROGRESS: at 35.20% examples, 1622603 words/s, in_qsize 19, out_qsize 0\n",
      "2018-06-09 23:41:58,889 : INFO : EPOCH 5 - PROGRESS: at 40.84% examples, 1619537 words/s, in_qsize 19, out_qsize 0\n",
      "2018-06-09 23:41:59,891 : INFO : EPOCH 5 - PROGRESS: at 46.91% examples, 1625646 words/s, in_qsize 19, out_qsize 0\n",
      "2018-06-09 23:42:00,908 : INFO : EPOCH 5 - PROGRESS: at 52.46% examples, 1621694 words/s, in_qsize 19, out_qsize 0\n",
      "2018-06-09 23:42:01,916 : INFO : EPOCH 5 - PROGRESS: at 57.92% examples, 1618825 words/s, in_qsize 19, out_qsize 0\n",
      "2018-06-09 23:42:02,925 : INFO : EPOCH 5 - PROGRESS: at 63.81% examples, 1621960 words/s, in_qsize 19, out_qsize 0\n",
      "2018-06-09 23:42:03,937 : INFO : EPOCH 5 - PROGRESS: at 69.50% examples, 1625537 words/s, in_qsize 19, out_qsize 0\n",
      "2018-06-09 23:42:04,943 : INFO : EPOCH 5 - PROGRESS: at 75.00% examples, 1625558 words/s, in_qsize 19, out_qsize 0\n",
      "2018-06-09 23:42:05,946 : INFO : EPOCH 5 - PROGRESS: at 80.23% examples, 1626330 words/s, in_qsize 19, out_qsize 0\n",
      "2018-06-09 23:42:06,949 : INFO : EPOCH 5 - PROGRESS: at 85.48% examples, 1625896 words/s, in_qsize 19, out_qsize 0\n",
      "2018-06-09 23:42:07,951 : INFO : EPOCH 5 - PROGRESS: at 91.31% examples, 1626079 words/s, in_qsize 19, out_qsize 0\n",
      "2018-06-09 23:42:08,956 : INFO : EPOCH 5 - PROGRESS: at 96.75% examples, 1624281 words/s, in_qsize 15, out_qsize 4\n",
      "2018-06-09 23:42:09,544 : INFO : worker thread finished; awaiting finish of 9 more threads\n",
      "2018-06-09 23:42:09,545 : INFO : worker thread finished; awaiting finish of 8 more threads\n",
      "2018-06-09 23:42:09,546 : INFO : worker thread finished; awaiting finish of 7 more threads\n",
      "2018-06-09 23:42:09,547 : INFO : worker thread finished; awaiting finish of 6 more threads\n",
      "2018-06-09 23:42:09,551 : INFO : worker thread finished; awaiting finish of 5 more threads\n",
      "2018-06-09 23:42:09,555 : INFO : worker thread finished; awaiting finish of 4 more threads\n",
      "2018-06-09 23:42:09,561 : INFO : worker thread finished; awaiting finish of 3 more threads\n",
      "2018-06-09 23:42:09,564 : INFO : worker thread finished; awaiting finish of 2 more threads\n",
      "2018-06-09 23:42:09,568 : INFO : worker thread finished; awaiting finish of 1 more threads\n",
      "2018-06-09 23:42:09,570 : INFO : worker thread finished; awaiting finish of 0 more threads\n",
      "2018-06-09 23:42:09,571 : INFO : EPOCH - 5 : training on 41519355 raw words (30349269 effective words) took 18.7s, 1620424 effective words/s\n",
      "2018-06-09 23:42:09,571 : INFO : training on a 207596775 raw words (151742101 effective words) took 96.3s, 1575726 effective words/s\n",
      "2018-06-09 23:42:09,572 : WARNING : Effective 'alpha' higher than previous training cycles\n",
      "2018-06-09 23:42:09,572 : INFO : training model with 10 workers on 70538 vocabulary and 150 features, using sg=0 hs=0 sample=0.001 negative=5 window=10\n",
      "2018-06-09 23:42:10,579 : INFO : EPOCH 1 - PROGRESS: at 4.78% examples, 1472645 words/s, in_qsize 19, out_qsize 0\n",
      "2018-06-09 23:42:11,597 : INFO : EPOCH 1 - PROGRESS: at 9.66% examples, 1502199 words/s, in_qsize 19, out_qsize 0\n",
      "2018-06-09 23:42:12,604 : INFO : EPOCH 1 - PROGRESS: at 13.89% examples, 1518048 words/s, in_qsize 18, out_qsize 1\n",
      "2018-06-09 23:42:13,606 : INFO : EPOCH 1 - PROGRESS: at 18.07% examples, 1507761 words/s, in_qsize 19, out_qsize 0\n",
      "2018-06-09 23:42:14,606 : INFO : EPOCH 1 - PROGRESS: at 22.86% examples, 1549848 words/s, in_qsize 19, out_qsize 0\n",
      "2018-06-09 23:42:15,613 : INFO : EPOCH 1 - PROGRESS: at 28.19% examples, 1564632 words/s, in_qsize 19, out_qsize 0\n",
      "2018-06-09 23:42:16,614 : INFO : EPOCH 1 - PROGRESS: at 34.22% examples, 1584866 words/s, in_qsize 19, out_qsize 0\n",
      "2018-06-09 23:42:17,624 : INFO : EPOCH 1 - PROGRESS: at 40.01% examples, 1591288 words/s, in_qsize 17, out_qsize 2\n",
      "2018-06-09 23:42:18,627 : INFO : EPOCH 1 - PROGRESS: at 46.36% examples, 1606782 words/s, in_qsize 19, out_qsize 0\n",
      "2018-06-09 23:42:19,629 : INFO : EPOCH 1 - PROGRESS: at 52.04% examples, 1611326 words/s, in_qsize 19, out_qsize 0\n",
      "2018-06-09 23:42:20,634 : INFO : EPOCH 1 - PROGRESS: at 57.68% examples, 1614316 words/s, in_qsize 18, out_qsize 1\n",
      "2018-06-09 23:42:21,640 : INFO : EPOCH 1 - PROGRESS: at 63.65% examples, 1621239 words/s, in_qsize 19, out_qsize 0\n",
      "2018-06-09 23:42:22,660 : INFO : EPOCH 1 - PROGRESS: at 69.30% examples, 1622192 words/s, in_qsize 19, out_qsize 5\n",
      "2018-06-09 23:42:23,664 : INFO : EPOCH 1 - PROGRESS: at 74.94% examples, 1625790 words/s, in_qsize 19, out_qsize 0\n",
      "2018-06-09 23:42:24,668 : INFO : EPOCH 1 - PROGRESS: at 80.21% examples, 1627907 words/s, in_qsize 19, out_qsize 0\n",
      "2018-06-09 23:42:25,668 : INFO : EPOCH 1 - PROGRESS: at 85.77% examples, 1632163 words/s, in_qsize 19, out_qsize 0\n",
      "2018-06-09 23:42:26,671 : INFO : EPOCH 1 - PROGRESS: at 91.22% examples, 1626381 words/s, in_qsize 19, out_qsize 0\n",
      "2018-06-09 23:42:27,695 : INFO : EPOCH 1 - PROGRESS: at 96.70% examples, 1623240 words/s, in_qsize 20, out_qsize 3\n",
      "2018-06-09 23:42:28,292 : INFO : worker thread finished; awaiting finish of 9 more threads\n",
      "2018-06-09 23:42:28,299 : INFO : worker thread finished; awaiting finish of 8 more threads\n",
      "2018-06-09 23:42:28,300 : INFO : worker thread finished; awaiting finish of 7 more threads\n",
      "2018-06-09 23:42:28,304 : INFO : worker thread finished; awaiting finish of 6 more threads\n",
      "2018-06-09 23:42:28,311 : INFO : worker thread finished; awaiting finish of 5 more threads\n",
      "2018-06-09 23:42:28,321 : INFO : worker thread finished; awaiting finish of 4 more threads\n",
      "2018-06-09 23:42:28,324 : INFO : worker thread finished; awaiting finish of 3 more threads\n",
      "2018-06-09 23:42:28,329 : INFO : worker thread finished; awaiting finish of 2 more threads\n",
      "2018-06-09 23:42:28,339 : INFO : worker thread finished; awaiting finish of 1 more threads\n",
      "2018-06-09 23:42:28,345 : INFO : worker thread finished; awaiting finish of 0 more threads\n",
      "2018-06-09 23:42:28,346 : INFO : EPOCH - 1 : training on 41519355 raw words (30347598 effective words) took 18.8s, 1617036 effective words/s\n",
      "2018-06-09 23:42:29,356 : INFO : EPOCH 2 - PROGRESS: at 5.06% examples, 1550789 words/s, in_qsize 18, out_qsize 1\n",
      "2018-06-09 23:42:30,362 : INFO : EPOCH 2 - PROGRESS: at 9.70% examples, 1517339 words/s, in_qsize 17, out_qsize 2\n",
      "2018-06-09 23:42:31,366 : INFO : EPOCH 2 - PROGRESS: at 13.83% examples, 1515494 words/s, in_qsize 19, out_qsize 0\n",
      "2018-06-09 23:42:32,379 : INFO : EPOCH 2 - PROGRESS: at 18.21% examples, 1519528 words/s, in_qsize 19, out_qsize 0\n",
      "2018-06-09 23:42:33,385 : INFO : EPOCH 2 - PROGRESS: at 22.55% examples, 1526121 words/s, in_qsize 18, out_qsize 1\n",
      "2018-06-09 23:42:34,387 : INFO : EPOCH 2 - PROGRESS: at 27.34% examples, 1527073 words/s, in_qsize 19, out_qsize 0\n",
      "2018-06-09 23:42:35,388 : INFO : EPOCH 2 - PROGRESS: at 32.98% examples, 1531177 words/s, in_qsize 19, out_qsize 0\n",
      "2018-06-09 23:42:36,391 : INFO : EPOCH 2 - PROGRESS: at 38.27% examples, 1530362 words/s, in_qsize 19, out_qsize 0\n",
      "2018-06-09 23:42:37,396 : INFO : EPOCH 2 - PROGRESS: at 43.85% examples, 1530847 words/s, in_qsize 19, out_qsize 0\n",
      "2018-06-09 23:42:38,406 : INFO : EPOCH 2 - PROGRESS: at 48.96% examples, 1521154 words/s, in_qsize 15, out_qsize 4\n",
      "2018-06-09 23:42:39,413 : INFO : EPOCH 2 - PROGRESS: at 54.05% examples, 1520426 words/s, in_qsize 19, out_qsize 0\n"
     ]
    },
    {
     "name": "stderr",
     "output_type": "stream",
     "text": [
      "2018-06-09 23:42:40,414 : INFO : EPOCH 2 - PROGRESS: at 59.59% examples, 1525609 words/s, in_qsize 19, out_qsize 0\n",
      "2018-06-09 23:42:41,417 : INFO : EPOCH 2 - PROGRESS: at 64.99% examples, 1524066 words/s, in_qsize 18, out_qsize 1\n",
      "2018-06-09 23:42:42,419 : INFO : EPOCH 2 - PROGRESS: at 70.19% examples, 1529431 words/s, in_qsize 18, out_qsize 1\n",
      "2018-06-09 23:42:43,422 : INFO : EPOCH 2 - PROGRESS: at 75.46% examples, 1530505 words/s, in_qsize 16, out_qsize 3\n",
      "2018-06-09 23:42:44,423 : INFO : EPOCH 2 - PROGRESS: at 80.63% examples, 1536785 words/s, in_qsize 17, out_qsize 0\n",
      "2018-06-09 23:42:45,438 : INFO : EPOCH 2 - PROGRESS: at 85.94% examples, 1540242 words/s, in_qsize 19, out_qsize 0\n",
      "2018-06-09 23:42:46,440 : INFO : EPOCH 2 - PROGRESS: at 91.52% examples, 1541155 words/s, in_qsize 17, out_qsize 2\n",
      "2018-06-09 23:42:47,455 : INFO : EPOCH 2 - PROGRESS: at 96.83% examples, 1541207 words/s, in_qsize 19, out_qsize 0\n",
      "2018-06-09 23:42:47,957 : INFO : worker thread finished; awaiting finish of 9 more threads\n",
      "2018-06-09 23:42:47,958 : INFO : worker thread finished; awaiting finish of 8 more threads\n",
      "2018-06-09 23:42:47,959 : INFO : worker thread finished; awaiting finish of 7 more threads\n",
      "2018-06-09 23:42:47,973 : INFO : worker thread finished; awaiting finish of 6 more threads\n",
      "2018-06-09 23:42:47,980 : INFO : worker thread finished; awaiting finish of 5 more threads\n",
      "2018-06-09 23:42:47,986 : INFO : worker thread finished; awaiting finish of 4 more threads\n",
      "2018-06-09 23:42:47,988 : INFO : worker thread finished; awaiting finish of 3 more threads\n",
      "2018-06-09 23:42:47,997 : INFO : worker thread finished; awaiting finish of 2 more threads\n",
      "2018-06-09 23:42:47,998 : INFO : worker thread finished; awaiting finish of 1 more threads\n",
      "2018-06-09 23:42:48,003 : INFO : worker thread finished; awaiting finish of 0 more threads\n",
      "2018-06-09 23:42:48,004 : INFO : EPOCH - 2 : training on 41519355 raw words (30347561 effective words) took 19.7s, 1544150 effective words/s\n",
      "2018-06-09 23:42:49,013 : INFO : EPOCH 3 - PROGRESS: at 5.03% examples, 1545210 words/s, in_qsize 19, out_qsize 0\n",
      "2018-06-09 23:42:50,018 : INFO : EPOCH 3 - PROGRESS: at 9.93% examples, 1569910 words/s, in_qsize 19, out_qsize 0\n",
      "2018-06-09 23:42:51,031 : INFO : EPOCH 3 - PROGRESS: at 14.42% examples, 1579118 words/s, in_qsize 18, out_qsize 1\n",
      "2018-06-09 23:42:52,040 : INFO : EPOCH 3 - PROGRESS: at 18.83% examples, 1573458 words/s, in_qsize 19, out_qsize 0\n",
      "2018-06-09 23:42:53,041 : INFO : EPOCH 3 - PROGRESS: at 23.01% examples, 1560905 words/s, in_qsize 19, out_qsize 0\n",
      "2018-06-09 23:42:54,044 : INFO : EPOCH 3 - PROGRESS: at 27.87% examples, 1548679 words/s, in_qsize 19, out_qsize 0\n",
      "2018-06-09 23:42:55,069 : INFO : EPOCH 3 - PROGRESS: at 33.31% examples, 1539524 words/s, in_qsize 19, out_qsize 0\n",
      "2018-06-09 23:42:56,070 : INFO : EPOCH 3 - PROGRESS: at 38.70% examples, 1540726 words/s, in_qsize 19, out_qsize 0\n",
      "2018-06-09 23:42:57,071 : INFO : EPOCH 3 - PROGRESS: at 44.43% examples, 1544817 words/s, in_qsize 17, out_qsize 2\n",
      "2018-06-09 23:42:58,075 : INFO : EPOCH 3 - PROGRESS: at 50.30% examples, 1557467 words/s, in_qsize 19, out_qsize 1\n",
      "2018-06-09 23:42:59,080 : INFO : EPOCH 3 - PROGRESS: at 56.04% examples, 1568994 words/s, in_qsize 20, out_qsize 0\n",
      "2018-06-09 23:43:00,082 : INFO : EPOCH 3 - PROGRESS: at 61.86% examples, 1579700 words/s, in_qsize 19, out_qsize 0\n",
      "2018-06-09 23:43:01,088 : INFO : EPOCH 3 - PROGRESS: at 67.69% examples, 1585259 words/s, in_qsize 19, out_qsize 0\n",
      "2018-06-09 23:43:02,093 : INFO : EPOCH 3 - PROGRESS: at 73.42% examples, 1593912 words/s, in_qsize 18, out_qsize 1\n",
      "2018-06-09 23:43:03,095 : INFO : EPOCH 3 - PROGRESS: at 78.78% examples, 1599257 words/s, in_qsize 19, out_qsize 0\n",
      "2018-06-09 23:43:04,099 : INFO : EPOCH 3 - PROGRESS: at 84.39% examples, 1605928 words/s, in_qsize 19, out_qsize 0\n",
      "2018-06-09 23:43:05,117 : INFO : EPOCH 3 - PROGRESS: at 90.28% examples, 1609020 words/s, in_qsize 16, out_qsize 3\n",
      "2018-06-09 23:43:06,122 : INFO : EPOCH 3 - PROGRESS: at 96.15% examples, 1614994 words/s, in_qsize 19, out_qsize 0\n",
      "2018-06-09 23:43:06,764 : INFO : worker thread finished; awaiting finish of 9 more threads\n",
      "2018-06-09 23:43:06,766 : INFO : worker thread finished; awaiting finish of 8 more threads\n",
      "2018-06-09 23:43:06,777 : INFO : worker thread finished; awaiting finish of 7 more threads\n",
      "2018-06-09 23:43:06,780 : INFO : worker thread finished; awaiting finish of 6 more threads\n",
      "2018-06-09 23:43:06,781 : INFO : worker thread finished; awaiting finish of 5 more threads\n",
      "2018-06-09 23:43:06,781 : INFO : worker thread finished; awaiting finish of 4 more threads\n",
      "2018-06-09 23:43:06,784 : INFO : worker thread finished; awaiting finish of 3 more threads\n",
      "2018-06-09 23:43:06,786 : INFO : worker thread finished; awaiting finish of 2 more threads\n",
      "2018-06-09 23:43:06,788 : INFO : worker thread finished; awaiting finish of 1 more threads\n",
      "2018-06-09 23:43:06,794 : INFO : worker thread finished; awaiting finish of 0 more threads\n",
      "2018-06-09 23:43:06,795 : INFO : EPOCH - 3 : training on 41519355 raw words (30350995 effective words) took 18.8s, 1615611 effective words/s\n",
      "2018-06-09 23:43:07,801 : INFO : EPOCH 4 - PROGRESS: at 5.35% examples, 1649963 words/s, in_qsize 19, out_qsize 0\n",
      "2018-06-09 23:43:08,806 : INFO : EPOCH 4 - PROGRESS: at 10.38% examples, 1654615 words/s, in_qsize 19, out_qsize 0\n",
      "2018-06-09 23:43:09,808 : INFO : EPOCH 4 - PROGRESS: at 15.23% examples, 1677523 words/s, in_qsize 18, out_qsize 1\n",
      "2018-06-09 23:43:10,813 : INFO : EPOCH 4 - PROGRESS: at 19.70% examples, 1668043 words/s, in_qsize 19, out_qsize 0\n",
      "2018-06-09 23:43:11,819 : INFO : EPOCH 4 - PROGRESS: at 24.34% examples, 1669452 words/s, in_qsize 19, out_qsize 0\n",
      "2018-06-09 23:43:12,832 : INFO : EPOCH 4 - PROGRESS: at 30.28% examples, 1665516 words/s, in_qsize 17, out_qsize 2\n",
      "2018-06-09 23:43:13,832 : INFO : EPOCH 4 - PROGRESS: at 36.34% examples, 1672921 words/s, in_qsize 19, out_qsize 0\n",
      "2018-06-09 23:43:14,832 : INFO : EPOCH 4 - PROGRESS: at 42.33% examples, 1670675 words/s, in_qsize 19, out_qsize 0\n",
      "2018-06-09 23:43:15,837 : INFO : EPOCH 4 - PROGRESS: at 48.26% examples, 1670718 words/s, in_qsize 18, out_qsize 1\n",
      "2018-06-09 23:43:16,843 : INFO : EPOCH 4 - PROGRESS: at 53.97% examples, 1671638 words/s, in_qsize 19, out_qsize 0\n",
      "2018-06-09 23:43:17,844 : INFO : EPOCH 4 - PROGRESS: at 59.84% examples, 1673427 words/s, in_qsize 19, out_qsize 0\n",
      "2018-06-09 23:43:18,851 : INFO : EPOCH 4 - PROGRESS: at 65.79% examples, 1673746 words/s, in_qsize 18, out_qsize 1\n",
      "2018-06-09 23:43:19,853 : INFO : EPOCH 4 - PROGRESS: at 71.36% examples, 1674724 words/s, in_qsize 19, out_qsize 0\n",
      "2018-06-09 23:43:20,865 : INFO : EPOCH 4 - PROGRESS: at 76.96% examples, 1674015 words/s, in_qsize 19, out_qsize 0\n",
      "2018-06-09 23:43:21,872 : INFO : EPOCH 4 - PROGRESS: at 82.55% examples, 1676303 words/s, in_qsize 20, out_qsize 1\n",
      "2018-06-09 23:43:22,875 : INFO : EPOCH 4 - PROGRESS: at 88.20% examples, 1675480 words/s, in_qsize 19, out_qsize 0\n",
      "2018-06-09 23:43:23,879 : INFO : EPOCH 4 - PROGRESS: at 94.13% examples, 1677255 words/s, in_qsize 19, out_qsize 0\n",
      "2018-06-09 23:43:24,876 : INFO : worker thread finished; awaiting finish of 9 more threads\n",
      "2018-06-09 23:43:24,882 : INFO : EPOCH 4 - PROGRESS: at 99.82% examples, 1675106 words/s, in_qsize 6, out_qsize 5\n",
      "2018-06-09 23:43:24,886 : INFO : worker thread finished; awaiting finish of 8 more threads\n",
      "2018-06-09 23:43:24,887 : INFO : worker thread finished; awaiting finish of 7 more threads\n",
      "2018-06-09 23:43:24,887 : INFO : worker thread finished; awaiting finish of 6 more threads\n",
      "2018-06-09 23:43:24,887 : INFO : worker thread finished; awaiting finish of 5 more threads\n",
      "2018-06-09 23:43:24,888 : INFO : worker thread finished; awaiting finish of 4 more threads\n",
      "2018-06-09 23:43:24,907 : INFO : worker thread finished; awaiting finish of 3 more threads\n",
      "2018-06-09 23:43:24,912 : INFO : worker thread finished; awaiting finish of 2 more threads\n",
      "2018-06-09 23:43:24,913 : INFO : worker thread finished; awaiting finish of 1 more threads\n",
      "2018-06-09 23:43:24,918 : INFO : worker thread finished; awaiting finish of 0 more threads\n",
      "2018-06-09 23:43:24,918 : INFO : EPOCH - 4 : training on 41519355 raw words (30343747 effective words) took 18.1s, 1674721 effective words/s\n"
     ]
    },
    {
     "name": "stderr",
     "output_type": "stream",
     "text": [
      "2018-06-09 23:43:25,924 : INFO : EPOCH 5 - PROGRESS: at 5.47% examples, 1687151 words/s, in_qsize 19, out_qsize 0\n",
      "2018-06-09 23:43:26,926 : INFO : EPOCH 5 - PROGRESS: at 10.55% examples, 1686341 words/s, in_qsize 19, out_qsize 0\n",
      "2018-06-09 23:43:27,927 : INFO : EPOCH 5 - PROGRESS: at 15.20% examples, 1676982 words/s, in_qsize 15, out_qsize 1\n",
      "2018-06-09 23:43:28,928 : INFO : EPOCH 5 - PROGRESS: at 19.93% examples, 1692692 words/s, in_qsize 19, out_qsize 0\n",
      "2018-06-09 23:43:29,929 : INFO : EPOCH 5 - PROGRESS: at 24.36% examples, 1675473 words/s, in_qsize 19, out_qsize 0\n",
      "2018-06-09 23:43:30,934 : INFO : EPOCH 5 - PROGRESS: at 30.39% examples, 1674708 words/s, in_qsize 16, out_qsize 3\n",
      "2018-06-09 23:43:31,954 : INFO : EPOCH 5 - PROGRESS: at 36.13% examples, 1663839 words/s, in_qsize 17, out_qsize 2\n",
      "2018-06-09 23:43:32,954 : INFO : EPOCH 5 - PROGRESS: at 42.12% examples, 1662860 words/s, in_qsize 19, out_qsize 0\n",
      "2018-06-09 23:43:33,956 : INFO : EPOCH 5 - PROGRESS: at 47.96% examples, 1662045 words/s, in_qsize 19, out_qsize 0\n",
      "2018-06-09 23:43:34,965 : INFO : EPOCH 5 - PROGRESS: at 53.42% examples, 1656781 words/s, in_qsize 19, out_qsize 0\n",
      "2018-06-09 23:43:35,973 : INFO : EPOCH 5 - PROGRESS: at 59.38% examples, 1660152 words/s, in_qsize 19, out_qsize 0\n",
      "2018-06-09 23:43:36,980 : INFO : EPOCH 5 - PROGRESS: at 65.26% examples, 1658744 words/s, in_qsize 20, out_qsize 0\n",
      "2018-06-09 23:43:37,989 : INFO : EPOCH 5 - PROGRESS: at 70.87% examples, 1662266 words/s, in_qsize 19, out_qsize 0\n",
      "2018-06-09 23:43:38,996 : INFO : EPOCH 5 - PROGRESS: at 76.38% examples, 1661011 words/s, in_qsize 19, out_qsize 0\n",
      "2018-06-09 23:43:39,998 : INFO : EPOCH 5 - PROGRESS: at 81.89% examples, 1663181 words/s, in_qsize 19, out_qsize 0\n",
      "2018-06-09 23:43:41,001 : INFO : EPOCH 5 - PROGRESS: at 87.54% examples, 1663786 words/s, in_qsize 19, out_qsize 0\n",
      "2018-06-09 23:43:42,003 : INFO : EPOCH 5 - PROGRESS: at 93.36% examples, 1664669 words/s, in_qsize 19, out_qsize 0\n",
      "2018-06-09 23:43:43,006 : INFO : EPOCH 5 - PROGRESS: at 99.27% examples, 1666979 words/s, in_qsize 20, out_qsize 0\n",
      "2018-06-09 23:43:43,093 : INFO : worker thread finished; awaiting finish of 9 more threads\n",
      "2018-06-09 23:43:43,094 : INFO : worker thread finished; awaiting finish of 8 more threads\n",
      "2018-06-09 23:43:43,097 : INFO : worker thread finished; awaiting finish of 7 more threads\n",
      "2018-06-09 23:43:43,110 : INFO : worker thread finished; awaiting finish of 6 more threads\n",
      "2018-06-09 23:43:43,118 : INFO : worker thread finished; awaiting finish of 5 more threads\n",
      "2018-06-09 23:43:43,120 : INFO : worker thread finished; awaiting finish of 4 more threads\n",
      "2018-06-09 23:43:43,126 : INFO : worker thread finished; awaiting finish of 3 more threads\n",
      "2018-06-09 23:43:43,129 : INFO : worker thread finished; awaiting finish of 2 more threads\n",
      "2018-06-09 23:43:43,139 : INFO : worker thread finished; awaiting finish of 1 more threads\n",
      "2018-06-09 23:43:43,145 : INFO : worker thread finished; awaiting finish of 0 more threads\n",
      "2018-06-09 23:43:43,146 : INFO : EPOCH - 5 : training on 41519355 raw words (30347841 effective words) took 18.2s, 1665378 effective words/s\n",
      "2018-06-09 23:43:44,160 : INFO : EPOCH 6 - PROGRESS: at 5.43% examples, 1660464 words/s, in_qsize 20, out_qsize 2\n",
      "2018-06-09 23:43:45,164 : INFO : EPOCH 6 - PROGRESS: at 10.53% examples, 1675419 words/s, in_qsize 18, out_qsize 1\n",
      "2018-06-09 23:43:46,165 : INFO : EPOCH 6 - PROGRESS: at 15.11% examples, 1662777 words/s, in_qsize 19, out_qsize 0\n",
      "2018-06-09 23:43:47,166 : INFO : EPOCH 6 - PROGRESS: at 19.73% examples, 1671108 words/s, in_qsize 19, out_qsize 0\n",
      "2018-06-09 23:43:48,180 : INFO : EPOCH 6 - PROGRESS: at 24.30% examples, 1663802 words/s, in_qsize 17, out_qsize 2\n",
      "2018-06-09 23:43:49,190 : INFO : EPOCH 6 - PROGRESS: at 30.35% examples, 1666192 words/s, in_qsize 19, out_qsize 0\n",
      "2018-06-09 23:43:50,191 : INFO : EPOCH 6 - PROGRESS: at 36.35% examples, 1670306 words/s, in_qsize 19, out_qsize 0\n",
      "2018-06-09 23:43:51,205 : INFO : EPOCH 6 - PROGRESS: at 42.51% examples, 1673686 words/s, in_qsize 19, out_qsize 0\n",
      "2018-06-09 23:43:52,210 : INFO : EPOCH 6 - PROGRESS: at 48.46% examples, 1673592 words/s, in_qsize 19, out_qsize 0\n",
      "2018-06-09 23:43:53,215 : INFO : EPOCH 6 - PROGRESS: at 54.15% examples, 1674410 words/s, in_qsize 18, out_qsize 1\n",
      "2018-06-09 23:43:54,217 : INFO : EPOCH 6 - PROGRESS: at 60.02% examples, 1675211 words/s, in_qsize 19, out_qsize 0\n",
      "2018-06-09 23:43:55,223 : INFO : EPOCH 6 - PROGRESS: at 66.03% examples, 1676709 words/s, in_qsize 19, out_qsize 0\n",
      "2018-06-09 23:43:56,235 : INFO : EPOCH 6 - PROGRESS: at 71.47% examples, 1673443 words/s, in_qsize 19, out_qsize 5\n",
      "2018-06-09 23:43:57,243 : INFO : EPOCH 6 - PROGRESS: at 77.17% examples, 1676316 words/s, in_qsize 18, out_qsize 1\n",
      "2018-06-09 23:43:58,245 : INFO : EPOCH 6 - PROGRESS: at 82.69% examples, 1676670 words/s, in_qsize 18, out_qsize 1\n",
      "2018-06-09 23:43:59,246 : INFO : EPOCH 6 - PROGRESS: at 88.32% examples, 1676159 words/s, in_qsize 19, out_qsize 0\n",
      "2018-06-09 23:44:00,246 : INFO : EPOCH 6 - PROGRESS: at 93.85% examples, 1671464 words/s, in_qsize 19, out_qsize 0\n",
      "2018-06-09 23:44:01,261 : INFO : EPOCH 6 - PROGRESS: at 99.68% examples, 1670929 words/s, in_qsize 13, out_qsize 0\n",
      "2018-06-09 23:44:01,278 : INFO : worker thread finished; awaiting finish of 9 more threads\n",
      "2018-06-09 23:44:01,279 : INFO : worker thread finished; awaiting finish of 8 more threads\n",
      "2018-06-09 23:44:01,287 : INFO : worker thread finished; awaiting finish of 7 more threads\n",
      "2018-06-09 23:44:01,298 : INFO : worker thread finished; awaiting finish of 6 more threads\n",
      "2018-06-09 23:44:01,302 : INFO : worker thread finished; awaiting finish of 5 more threads\n",
      "2018-06-09 23:44:01,302 : INFO : worker thread finished; awaiting finish of 4 more threads\n",
      "2018-06-09 23:44:01,309 : INFO : worker thread finished; awaiting finish of 3 more threads\n",
      "2018-06-09 23:44:01,314 : INFO : worker thread finished; awaiting finish of 2 more threads\n",
      "2018-06-09 23:44:01,315 : INFO : worker thread finished; awaiting finish of 1 more threads\n",
      "2018-06-09 23:44:01,319 : INFO : worker thread finished; awaiting finish of 0 more threads\n",
      "2018-06-09 23:44:01,320 : INFO : EPOCH - 6 : training on 41519355 raw words (30350516 effective words) took 18.2s, 1670529 effective words/s\n",
      "2018-06-09 23:44:02,339 : INFO : EPOCH 7 - PROGRESS: at 5.34% examples, 1623891 words/s, in_qsize 17, out_qsize 2\n",
      "2018-06-09 23:44:03,346 : INFO : EPOCH 7 - PROGRESS: at 10.42% examples, 1651059 words/s, in_qsize 18, out_qsize 1\n",
      "2018-06-09 23:44:04,349 : INFO : EPOCH 7 - PROGRESS: at 15.00% examples, 1645849 words/s, in_qsize 19, out_qsize 0\n",
      "2018-06-09 23:44:05,349 : INFO : EPOCH 7 - PROGRESS: at 19.70% examples, 1664051 words/s, in_qsize 20, out_qsize 0\n",
      "2018-06-09 23:44:06,353 : INFO : EPOCH 7 - PROGRESS: at 24.15% examples, 1652777 words/s, in_qsize 19, out_qsize 0\n",
      "2018-06-09 23:44:07,356 : INFO : EPOCH 7 - PROGRESS: at 30.03% examples, 1652705 words/s, in_qsize 17, out_qsize 2\n",
      "2018-06-09 23:44:08,357 : INFO : EPOCH 7 - PROGRESS: at 35.96% examples, 1657983 words/s, in_qsize 19, out_qsize 0\n",
      "2018-06-09 23:44:09,357 : INFO : EPOCH 7 - PROGRESS: at 42.09% examples, 1662226 words/s, in_qsize 19, out_qsize 0\n",
      "2018-06-09 23:44:10,361 : INFO : EPOCH 7 - PROGRESS: at 47.96% examples, 1661692 words/s, in_qsize 19, out_qsize 0\n",
      "2018-06-09 23:44:11,366 : INFO : EPOCH 7 - PROGRESS: at 53.61% examples, 1662954 words/s, in_qsize 19, out_qsize 0\n",
      "2018-06-09 23:44:12,366 : INFO : EPOCH 7 - PROGRESS: at 59.50% examples, 1664806 words/s, in_qsize 19, out_qsize 0\n",
      "2018-06-09 23:44:13,379 : INFO : EPOCH 7 - PROGRESS: at 65.50% examples, 1665930 words/s, in_qsize 17, out_qsize 2\n",
      "2018-06-09 23:44:14,380 : INFO : EPOCH 7 - PROGRESS: at 71.03% examples, 1668149 words/s, in_qsize 18, out_qsize 1\n",
      "2018-06-09 23:44:15,388 : INFO : EPOCH 7 - PROGRESS: at 76.65% examples, 1667835 words/s, in_qsize 16, out_qsize 3\n",
      "2018-06-09 23:44:16,396 : INFO : EPOCH 7 - PROGRESS: at 82.14% examples, 1668509 words/s, in_qsize 19, out_qsize 0\n",
      "2018-06-09 23:44:17,398 : INFO : EPOCH 7 - PROGRESS: at 87.99% examples, 1671991 words/s, in_qsize 19, out_qsize 0\n",
      "2018-06-09 23:44:18,400 : INFO : EPOCH 7 - PROGRESS: at 93.82% examples, 1672813 words/s, in_qsize 19, out_qsize 0\n"
     ]
    },
    {
     "name": "stderr",
     "output_type": "stream",
     "text": [
      "2018-06-09 23:44:19,400 : INFO : EPOCH 7 - PROGRESS: at 99.65% examples, 1673620 words/s, in_qsize 14, out_qsize 0\n",
      "2018-06-09 23:44:19,427 : INFO : worker thread finished; awaiting finish of 9 more threads\n",
      "2018-06-09 23:44:19,437 : INFO : worker thread finished; awaiting finish of 8 more threads\n",
      "2018-06-09 23:44:19,437 : INFO : worker thread finished; awaiting finish of 7 more threads\n",
      "2018-06-09 23:44:19,443 : INFO : worker thread finished; awaiting finish of 6 more threads\n",
      "2018-06-09 23:44:19,447 : INFO : worker thread finished; awaiting finish of 5 more threads\n",
      "2018-06-09 23:44:19,448 : INFO : worker thread finished; awaiting finish of 4 more threads\n",
      "2018-06-09 23:44:19,452 : INFO : worker thread finished; awaiting finish of 3 more threads\n",
      "2018-06-09 23:44:19,455 : INFO : worker thread finished; awaiting finish of 2 more threads\n",
      "2018-06-09 23:44:19,458 : INFO : worker thread finished; awaiting finish of 1 more threads\n",
      "2018-06-09 23:44:19,461 : INFO : worker thread finished; awaiting finish of 0 more threads\n",
      "2018-06-09 23:44:19,462 : INFO : EPOCH - 7 : training on 41519355 raw words (30347010 effective words) took 18.1s, 1673267 effective words/s\n",
      "2018-06-09 23:44:20,475 : INFO : EPOCH 8 - PROGRESS: at 5.38% examples, 1645017 words/s, in_qsize 19, out_qsize 0\n",
      "2018-06-09 23:44:21,477 : INFO : EPOCH 8 - PROGRESS: at 10.41% examples, 1654708 words/s, in_qsize 19, out_qsize 0\n",
      "2018-06-09 23:44:22,479 : INFO : EPOCH 8 - PROGRESS: at 15.12% examples, 1665948 words/s, in_qsize 19, out_qsize 0\n",
      "2018-06-09 23:44:23,489 : INFO : EPOCH 8 - PROGRESS: at 19.81% examples, 1675021 words/s, in_qsize 19, out_qsize 0\n",
      "2018-06-09 23:44:24,492 : INFO : EPOCH 8 - PROGRESS: at 24.42% examples, 1673451 words/s, in_qsize 19, out_qsize 0\n",
      "2018-06-09 23:44:25,501 : INFO : EPOCH 8 - PROGRESS: at 30.39% examples, 1669733 words/s, in_qsize 20, out_qsize 1\n",
      "2018-06-09 23:44:26,521 : INFO : EPOCH 8 - PROGRESS: at 36.46% examples, 1670896 words/s, in_qsize 17, out_qsize 2\n",
      "2018-06-09 23:44:27,521 : INFO : EPOCH 8 - PROGRESS: at 42.54% examples, 1675333 words/s, in_qsize 19, out_qsize 0\n",
      "2018-06-09 23:44:28,523 : INFO : EPOCH 8 - PROGRESS: at 48.44% examples, 1673156 words/s, in_qsize 19, out_qsize 0\n",
      "2018-06-09 23:44:29,531 : INFO : EPOCH 8 - PROGRESS: at 53.98% examples, 1669239 words/s, in_qsize 19, out_qsize 0\n",
      "2018-06-09 23:44:30,531 : INFO : EPOCH 8 - PROGRESS: at 59.89% examples, 1671997 words/s, in_qsize 19, out_qsize 0\n",
      "2018-06-09 23:44:31,535 : INFO : EPOCH 8 - PROGRESS: at 65.83% examples, 1673473 words/s, in_qsize 19, out_qsize 0\n",
      "2018-06-09 23:44:32,541 : INFO : EPOCH 8 - PROGRESS: at 71.48% examples, 1674631 words/s, in_qsize 19, out_qsize 0\n",
      "2018-06-09 23:44:33,543 : INFO : EPOCH 8 - PROGRESS: at 77.15% examples, 1677723 words/s, in_qsize 19, out_qsize 0\n",
      "2018-06-09 23:44:34,547 : INFO : EPOCH 8 - PROGRESS: at 82.69% examples, 1678658 words/s, in_qsize 19, out_qsize 0\n",
      "2018-06-09 23:44:35,552 : INFO : EPOCH 8 - PROGRESS: at 88.43% examples, 1678887 words/s, in_qsize 19, out_qsize 0\n",
      "2018-06-09 23:44:36,556 : INFO : EPOCH 8 - PROGRESS: at 94.28% examples, 1679061 words/s, in_qsize 19, out_qsize 0\n",
      "2018-06-09 23:44:37,495 : INFO : worker thread finished; awaiting finish of 9 more threads\n",
      "2018-06-09 23:44:37,510 : INFO : worker thread finished; awaiting finish of 8 more threads\n",
      "2018-06-09 23:44:37,511 : INFO : worker thread finished; awaiting finish of 7 more threads\n",
      "2018-06-09 23:44:37,526 : INFO : worker thread finished; awaiting finish of 6 more threads\n",
      "2018-06-09 23:44:37,527 : INFO : worker thread finished; awaiting finish of 5 more threads\n",
      "2018-06-09 23:44:37,536 : INFO : worker thread finished; awaiting finish of 4 more threads\n",
      "2018-06-09 23:44:37,539 : INFO : worker thread finished; awaiting finish of 3 more threads\n",
      "2018-06-09 23:44:37,540 : INFO : worker thread finished; awaiting finish of 2 more threads\n",
      "2018-06-09 23:44:37,542 : INFO : worker thread finished; awaiting finish of 1 more threads\n",
      "2018-06-09 23:44:37,548 : INFO : worker thread finished; awaiting finish of 0 more threads\n",
      "2018-06-09 23:44:37,548 : INFO : EPOCH - 8 : training on 41519355 raw words (30349183 effective words) took 18.1s, 1678461 effective words/s\n",
      "2018-06-09 23:44:38,559 : INFO : EPOCH 9 - PROGRESS: at 5.36% examples, 1645126 words/s, in_qsize 19, out_qsize 0\n",
      "2018-06-09 23:44:39,572 : INFO : EPOCH 9 - PROGRESS: at 10.40% examples, 1649665 words/s, in_qsize 19, out_qsize 0\n",
      "2018-06-09 23:44:40,594 : INFO : EPOCH 9 - PROGRESS: at 15.07% examples, 1643847 words/s, in_qsize 19, out_qsize 0\n",
      "2018-06-09 23:44:41,597 : INFO : EPOCH 9 - PROGRESS: at 19.70% examples, 1656164 words/s, in_qsize 19, out_qsize 0\n",
      "2018-06-09 23:44:42,598 : INFO : EPOCH 9 - PROGRESS: at 24.22% examples, 1651884 words/s, in_qsize 19, out_qsize 0\n",
      "2018-06-09 23:44:43,599 : INFO : EPOCH 9 - PROGRESS: at 30.07% examples, 1651387 words/s, in_qsize 16, out_qsize 3\n",
      "2018-06-09 23:44:44,600 : INFO : EPOCH 9 - PROGRESS: at 35.89% examples, 1651776 words/s, in_qsize 19, out_qsize 0\n",
      "2018-06-09 23:44:45,605 : INFO : EPOCH 9 - PROGRESS: at 41.73% examples, 1645942 words/s, in_qsize 19, out_qsize 0\n",
      "2018-06-09 23:44:46,616 : INFO : EPOCH 9 - PROGRESS: at 46.99% examples, 1626083 words/s, in_qsize 19, out_qsize 0\n",
      "2018-06-09 23:44:47,618 : INFO : EPOCH 9 - PROGRESS: at 52.11% examples, 1611387 words/s, in_qsize 19, out_qsize 0\n",
      "2018-06-09 23:44:48,619 : INFO : EPOCH 9 - PROGRESS: at 57.24% examples, 1601462 words/s, in_qsize 18, out_qsize 1\n",
      "2018-06-09 23:44:49,626 : INFO : EPOCH 9 - PROGRESS: at 62.75% examples, 1600985 words/s, in_qsize 19, out_qsize 0\n",
      "2018-06-09 23:44:50,633 : INFO : EPOCH 9 - PROGRESS: at 68.56% examples, 1605770 words/s, in_qsize 19, out_qsize 0\n",
      "2018-06-09 23:44:51,634 : INFO : EPOCH 9 - PROGRESS: at 73.70% examples, 1599607 words/s, in_qsize 19, out_qsize 0\n",
      "2018-06-09 23:44:52,637 : INFO : EPOCH 9 - PROGRESS: at 78.65% examples, 1596695 words/s, in_qsize 19, out_qsize 0\n",
      "2018-06-09 23:44:53,641 : INFO : EPOCH 9 - PROGRESS: at 83.84% examples, 1595060 words/s, in_qsize 19, out_qsize 0\n",
      "2018-06-09 23:44:54,645 : INFO : EPOCH 9 - PROGRESS: at 89.25% examples, 1593691 words/s, in_qsize 19, out_qsize 0\n",
      "2018-06-09 23:44:55,650 : INFO : EPOCH 9 - PROGRESS: at 94.68% examples, 1592632 words/s, in_qsize 20, out_qsize 0\n",
      "2018-06-09 23:44:56,530 : INFO : worker thread finished; awaiting finish of 9 more threads\n",
      "2018-06-09 23:44:56,534 : INFO : worker thread finished; awaiting finish of 8 more threads\n",
      "2018-06-09 23:44:56,542 : INFO : worker thread finished; awaiting finish of 7 more threads\n",
      "2018-06-09 23:44:56,544 : INFO : worker thread finished; awaiting finish of 6 more threads\n",
      "2018-06-09 23:44:56,549 : INFO : worker thread finished; awaiting finish of 5 more threads\n",
      "2018-06-09 23:44:56,552 : INFO : worker thread finished; awaiting finish of 4 more threads\n",
      "2018-06-09 23:44:56,561 : INFO : worker thread finished; awaiting finish of 3 more threads\n",
      "2018-06-09 23:44:56,562 : INFO : worker thread finished; awaiting finish of 2 more threads\n",
      "2018-06-09 23:44:56,563 : INFO : worker thread finished; awaiting finish of 1 more threads\n",
      "2018-06-09 23:44:56,564 : INFO : worker thread finished; awaiting finish of 0 more threads\n",
      "2018-06-09 23:44:56,564 : INFO : EPOCH - 9 : training on 41519355 raw words (30350358 effective words) took 19.0s, 1596546 effective words/s\n",
      "2018-06-09 23:44:57,573 : INFO : EPOCH 10 - PROGRESS: at 5.15% examples, 1589591 words/s, in_qsize 19, out_qsize 0\n",
      "2018-06-09 23:44:58,582 : INFO : EPOCH 10 - PROGRESS: at 9.96% examples, 1574073 words/s, in_qsize 19, out_qsize 0\n",
      "2018-06-09 23:44:59,590 : INFO : EPOCH 10 - PROGRESS: at 13.97% examples, 1527430 words/s, in_qsize 19, out_qsize 0\n",
      "2018-06-09 23:45:00,591 : INFO : EPOCH 10 - PROGRESS: at 18.09% examples, 1511138 words/s, in_qsize 19, out_qsize 0\n",
      "2018-06-09 23:45:01,592 : INFO : EPOCH 10 - PROGRESS: at 22.63% examples, 1535147 words/s, in_qsize 19, out_qsize 0\n",
      "2018-06-09 23:45:02,600 : INFO : EPOCH 10 - PROGRESS: at 27.76% examples, 1546080 words/s, in_qsize 19, out_qsize 0\n",
      "2018-06-09 23:45:03,613 : INFO : EPOCH 10 - PROGRESS: at 32.82% examples, 1523315 words/s, in_qsize 19, out_qsize 0\n",
      "2018-06-09 23:45:04,616 : INFO : EPOCH 10 - PROGRESS: at 37.89% examples, 1517366 words/s, in_qsize 19, out_qsize 0\n"
     ]
    },
    {
     "name": "stderr",
     "output_type": "stream",
     "text": [
      "2018-06-09 23:45:05,622 : INFO : EPOCH 10 - PROGRESS: at 43.81% examples, 1528749 words/s, in_qsize 19, out_qsize 0\n",
      "2018-06-09 23:45:06,649 : INFO : EPOCH 10 - PROGRESS: at 48.43% examples, 1503003 words/s, in_qsize 19, out_qsize 0\n",
      "2018-06-09 23:45:07,660 : INFO : EPOCH 10 - PROGRESS: at 53.03% examples, 1489148 words/s, in_qsize 20, out_qsize 2\n",
      "2018-06-09 23:45:08,667 : INFO : EPOCH 10 - PROGRESS: at 58.10% examples, 1485866 words/s, in_qsize 19, out_qsize 0\n",
      "2018-06-09 23:45:09,674 : INFO : EPOCH 10 - PROGRESS: at 63.20% examples, 1483861 words/s, in_qsize 19, out_qsize 0\n",
      "2018-06-09 23:45:10,682 : INFO : EPOCH 10 - PROGRESS: at 68.17% examples, 1479193 words/s, in_qsize 16, out_qsize 3\n",
      "2018-06-09 23:45:11,684 : INFO : EPOCH 10 - PROGRESS: at 73.18% examples, 1480808 words/s, in_qsize 19, out_qsize 0\n",
      "2018-06-09 23:45:12,699 : INFO : EPOCH 10 - PROGRESS: at 77.41% examples, 1469300 words/s, in_qsize 19, out_qsize 0\n",
      "2018-06-09 23:45:13,700 : INFO : EPOCH 10 - PROGRESS: at 81.76% examples, 1461614 words/s, in_qsize 19, out_qsize 0\n",
      "2018-06-09 23:45:14,704 : INFO : EPOCH 10 - PROGRESS: at 86.16% examples, 1454803 words/s, in_qsize 19, out_qsize 0\n",
      "2018-06-09 23:45:15,711 : INFO : EPOCH 10 - PROGRESS: at 92.00% examples, 1463941 words/s, in_qsize 19, out_qsize 0\n",
      "2018-06-09 23:45:16,725 : INFO : EPOCH 10 - PROGRESS: at 97.84% examples, 1475050 words/s, in_qsize 19, out_qsize 0\n",
      "2018-06-09 23:45:17,046 : INFO : worker thread finished; awaiting finish of 9 more threads\n",
      "2018-06-09 23:45:17,047 : INFO : worker thread finished; awaiting finish of 8 more threads\n",
      "2018-06-09 23:45:17,059 : INFO : worker thread finished; awaiting finish of 7 more threads\n",
      "2018-06-09 23:45:17,061 : INFO : worker thread finished; awaiting finish of 6 more threads\n",
      "2018-06-09 23:45:17,070 : INFO : worker thread finished; awaiting finish of 5 more threads\n",
      "2018-06-09 23:45:17,071 : INFO : worker thread finished; awaiting finish of 4 more threads\n",
      "2018-06-09 23:45:17,074 : INFO : worker thread finished; awaiting finish of 3 more threads\n",
      "2018-06-09 23:45:17,076 : INFO : worker thread finished; awaiting finish of 2 more threads\n",
      "2018-06-09 23:45:17,082 : INFO : worker thread finished; awaiting finish of 1 more threads\n",
      "2018-06-09 23:45:17,083 : INFO : worker thread finished; awaiting finish of 0 more threads\n",
      "2018-06-09 23:45:17,084 : INFO : EPOCH - 10 : training on 41519355 raw words (30347414 effective words) took 20.5s, 1479354 effective words/s\n",
      "2018-06-09 23:45:17,084 : INFO : training on a 415193550 raw words (303482223 effective words) took 187.5s, 1618466 effective words/s\n"
     ]
    },
    {
     "data": {
      "text/plain": [
       "(303482223, 415193550)"
      ]
     },
     "execution_count": 14,
     "metadata": {},
     "output_type": "execute_result"
    }
   ],
   "source": [
    "# Training the Word2Vec model\n",
    "model = gensim.models.Word2Vec (documents, size=150, window=10, min_count=2, workers=10)\n",
    "model.train(documents,total_examples=len(documents),epochs=10)"
   ]
  },
  {
   "cell_type": "code",
   "execution_count": 18,
   "metadata": {},
   "outputs": [
    {
     "name": "stderr",
     "output_type": "stream",
     "text": [
      "2018-06-10 13:31:28,494 : INFO : precomputing L2-norms of word weight vectors\n"
     ]
    },
    {
     "data": {
      "text/plain": [
       "[('filthy', 0.8553006649017334),\n",
       " ('unclean', 0.7835081815719604),\n",
       " ('stained', 0.7783935070037842),\n",
       " ('dusty', 0.758417546749115),\n",
       " ('smelly', 0.7560759782791138),\n",
       " ('grubby', 0.7517805099487305),\n",
       " ('dingy', 0.7356335520744324),\n",
       " ('grimy', 0.7324656248092651),\n",
       " ('gross', 0.7278857231140137),\n",
       " ('disgusting', 0.7137954235076904)]"
      ]
     },
     "execution_count": 18,
     "metadata": {},
     "output_type": "execute_result"
    }
   ],
   "source": [
    "w1 = \"dirty\"\n",
    "model.wv.most_similar (positive=w1)"
   ]
  },
  {
   "cell_type": "code",
   "execution_count": 19,
   "metadata": {},
   "outputs": [
    {
     "data": {
      "text/plain": [
       "[('courteous', 0.9239490628242493),\n",
       " ('friendly', 0.8321995735168457),\n",
       " ('cordial', 0.8260596990585327),\n",
       " ('professional', 0.7796531915664673),\n",
       " ('curteous', 0.77601557970047),\n",
       " ('attentive', 0.7660747170448303)]"
      ]
     },
     "execution_count": 19,
     "metadata": {},
     "output_type": "execute_result"
    }
   ],
   "source": [
    "# look up top 6 words similar to 'polite'# look u \n",
    "w1 = [\"polite\"]\n",
    "model.wv.most_similar (positive=w1,topn=6)"
   ]
  },
  {
   "cell_type": "code",
   "execution_count": 20,
   "metadata": {},
   "outputs": [
    {
     "data": {
      "text/plain": [
       "[('germany', 0.7086300253868103),\n",
       " ('spain', 0.659221887588501),\n",
       " ('gaulle', 0.6553599834442139),\n",
       " ('canada', 0.6524972915649414),\n",
       " ('england', 0.6258772015571594),\n",
       " ('greece', 0.6203008890151978)]"
      ]
     },
     "execution_count": 20,
     "metadata": {},
     "output_type": "execute_result"
    }
   ],
   "source": [
    "# look up top 6 words similar to 'france'\n",
    "w1 = [\"france\"]\n",
    "model.wv.most_similar (positive=w1,topn=6)"
   ]
  },
  {
   "cell_type": "code",
   "execution_count": 21,
   "metadata": {},
   "outputs": [
    {
     "data": {
      "text/plain": [
       "[('horrified', 0.7835139036178589),\n",
       " ('amazed', 0.7822178602218628),\n",
       " ('appalled', 0.7771738171577454),\n",
       " ('dismayed', 0.7575318813323975),\n",
       " ('astonished', 0.7501602172851562),\n",
       " ('stunned', 0.7449907064437866)]"
      ]
     },
     "execution_count": 21,
     "metadata": {},
     "output_type": "execute_result"
    }
   ],
   "source": [
    "# look up top 6 words similar to 'shocked'\n",
    "w1 = [\"shocked\"]\n",
    "model.wv.most_similar (positive=w1,topn=6)"
   ]
  },
  {
   "cell_type": "code",
   "execution_count": 22,
   "metadata": {},
   "outputs": [
    {
     "data": {
      "text/plain": [
       "[('duvet', 0.716729462146759),\n",
       " ('quilt', 0.7091005444526672),\n",
       " ('blanket', 0.6976842880249023),\n",
       " ('mattress', 0.6816177368164062),\n",
       " ('matress', 0.6785235404968262),\n",
       " ('sheets', 0.645189642906189),\n",
       " ('pillows', 0.6427420377731323),\n",
       " ('foam', 0.6191989183425903),\n",
       " ('pillowcases', 0.6108445525169373),\n",
       " ('pillowcase', 0.6050495505332947)]"
      ]
     },
     "execution_count": 22,
     "metadata": {},
     "output_type": "execute_result"
    }
   ],
   "source": [
    "# get everything related to stuff on the bed\n",
    "w1 = [\"bed\",'sheet','pillow']\n",
    "w2 = ['couch']\n",
    "model.wv.most_similar (positive=w1,negative=w2,topn=10)"
   ]
  },
  {
   "cell_type": "code",
   "execution_count": 28,
   "metadata": {},
   "outputs": [
    {
     "data": {
      "text/plain": [
       "0.7560759357498282"
      ]
     },
     "execution_count": 28,
     "metadata": {},
     "output_type": "execute_result"
    }
   ],
   "source": [
    "# similarity between two different words\n",
    "model.wv.similarity(w1=\"dirty\",w2=\"smelly\")"
   ]
  },
  {
   "cell_type": "code",
   "execution_count": 29,
   "metadata": {},
   "outputs": [
    {
     "data": {
      "text/plain": [
       "0.9999999999999999"
      ]
     },
     "execution_count": 29,
     "metadata": {},
     "output_type": "execute_result"
    }
   ],
   "source": [
    "# similarity between two identical words\n",
    "model.wv.similarity(w1=\"dirty\",w2=\"dirty\")"
   ]
  },
  {
   "cell_type": "code",
   "execution_count": 30,
   "metadata": {},
   "outputs": [
    {
     "data": {
      "text/plain": [
       "0.27666864799891483"
      ]
     },
     "execution_count": 30,
     "metadata": {},
     "output_type": "execute_result"
    }
   ],
   "source": [
    "# similarity between two unrelated words\n",
    "model.wv.similarity(w1=\"dirty\",w2=\"clean\")"
   ]
  },
  {
   "cell_type": "code",
   "execution_count": 31,
   "metadata": {},
   "outputs": [
    {
     "data": {
      "text/plain": [
       "'france'"
      ]
     },
     "execution_count": 31,
     "metadata": {},
     "output_type": "execute_result"
    }
   ],
   "source": [
    "# Which one is the odd one out in this list?\n",
    "model.wv.doesnt_match([\"cat\",\"dog\",\"france\"])"
   ]
  },
  {
   "cell_type": "code",
   "execution_count": 32,
   "metadata": {},
   "outputs": [
    {
     "data": {
      "text/plain": [
       "'shower'"
      ]
     },
     "execution_count": 32,
     "metadata": {},
     "output_type": "execute_result"
    }
   ],
   "source": [
    "# Which one is the odd one out in this list?# Which  \n",
    "model.wv.doesnt_match([\"bed\",\"pillow\",\"duvet\",\"shower\"])"
   ]
  },
  {
   "cell_type": "code",
   "execution_count": 33,
   "metadata": {},
   "outputs": [
    {
     "data": {
      "text/plain": [
       "0.43204009445108954"
      ]
     },
     "execution_count": 33,
     "metadata": {},
     "output_type": "execute_result"
    }
   ],
   "source": [
    "# similarity between two identical words\n",
    "model.wv.similarity(w1=\"hotel\",w2=\"location\")"
   ]
  },
  {
   "cell_type": "code",
   "execution_count": null,
   "metadata": {},
   "outputs": [],
   "source": []
  }
 ],
 "metadata": {
  "kernelspec": {
   "display_name": "Python 3",
   "language": "python",
   "name": "python3"
  },
  "language_info": {
   "codemirror_mode": {
    "name": "ipython",
    "version": 3
   },
   "file_extension": ".py",
   "mimetype": "text/x-python",
   "name": "python",
   "nbconvert_exporter": "python",
   "pygments_lexer": "ipython3",
   "version": "3.6.4"
  }
 },
 "nbformat": 4,
 "nbformat_minor": 2
}
